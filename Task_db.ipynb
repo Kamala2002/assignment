{
 "cells": [
  {
   "cell_type": "markdown",
   "metadata": {},
   "source": [
    "Write a program to accept name, email id and address as input and store them in users table. if the email id already exist in the db it should throw error"
   ]
  },
  {
   "cell_type": "code",
   "execution_count": 14,
   "metadata": {},
   "outputs": [
    {
     "name": "stdout",
     "output_type": "stream",
     "text": [
      "<mysql.connector.connection_cext.CMySQLConnection object at 0x000001CF6DD8B980>\n"
     ]
    }
   ],
   "source": [
    "import mysql.connector \n",
    "\n",
    "mydb = mysql.connector.connect(\n",
    "    host = 'localhost',\n",
    "    user = 'root',\n",
    "    password = '123654'\n",
    ")\n",
    "print(mydb)"
   ]
  },
  {
   "cell_type": "code",
   "execution_count": 15,
   "metadata": {},
   "outputs": [],
   "source": [
    "mycursor = mydb.cursor()"
   ]
  },
  {
   "cell_type": "code",
   "execution_count": 17,
   "metadata": {},
   "outputs": [],
   "source": [
    "mycursor.execute(\"USE mydatabase\")"
   ]
  },
  {
   "cell_type": "code",
   "execution_count": 9,
   "metadata": {},
   "outputs": [],
   "source": [
    "mycursor.execute(\"CREATE TABLE users(name VARCHAR(255), email_id VARCHAR(255) UNIQUE, address VARCHAR(255))\")"
   ]
  },
  {
   "cell_type": "code",
   "execution_count": 21,
   "metadata": {},
   "outputs": [
    {
     "name": "stdout",
     "output_type": "stream",
     "text": [
      "[('kamala', 'kamala@gmail.com', 'hyderabad')]\n"
     ]
    }
   ],
   "source": [
    "mycursor.execute(\"SELECT * FROM users\")\n",
    "myresult = mycursor.fetchall()\n",
    "print(myresult)\n"
   ]
  },
  {
   "cell_type": "code",
   "execution_count": 22,
   "metadata": {},
   "outputs": [
    {
     "name": "stdout",
     "output_type": "stream",
     "text": [
      "ERROR\n"
     ]
    }
   ],
   "source": [
    "name = input()\n",
    "email_id = input()\n",
    "address = input()\n",
    "try:\n",
    "    mycursor.execute(\"INSERT INTO users(name, email_id, address) VALUES(%s, %s, %s)\",(name, email_id, address))\n",
    "except Exception:\n",
    "    print(\"Email Id already exist\")\n",
    "\n",
    "        "
   ]
  }
 ],
 "metadata": {
  "kernelspec": {
   "display_name": "Python 3",
   "language": "python",
   "name": "python3"
  },
  "language_info": {
   "codemirror_mode": {
    "name": "ipython",
    "version": 3
   },
   "file_extension": ".py",
   "mimetype": "text/x-python",
   "name": "python",
   "nbconvert_exporter": "python",
   "pygments_lexer": "ipython3",
   "version": "3.12.4"
  }
 },
 "nbformat": 4,
 "nbformat_minor": 2
}
